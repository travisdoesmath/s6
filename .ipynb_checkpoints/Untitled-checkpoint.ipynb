{
 "cells": [
  {
   "cell_type": "code",
   "execution_count": 16,
   "id": "3b2eb1a7-fcf1-4e6f-a4b3-d146518b9886",
   "metadata": {},
   "outputs": [],
   "source": [
    "def parse_cycle(cycle):\n",
    "    \"\"\"Parse a cycle notation string and return a dictionary mapping.\"\"\"\n",
    "    if not cycle:\n",
    "        return {}\n",
    "\n",
    "    cycle = cycle.strip()\n",
    "    if cycle[0] != '(' or cycle[-1] != ')':\n",
    "        raise ValueError(\"Invalid cycle notation\")\n",
    "\n",
    "    elements = cycle[1:-1]\n",
    "    if len(elements) < 2:\n",
    "        raise ValueError(\"Cycle must contain at least two elements\")\n",
    "\n",
    "    mapping = {}\n",
    "    for i in range(len(elements)):\n",
    "        start = int(elements[i])\n",
    "        end = int(elements[(i + 1) % len(elements)])\n",
    "        mapping[start] = end\n",
    "\n",
    "    return mapping\n",
    "\n",
    "def compose_permutations(a, b):\n",
    "    \"\"\"Compose two permutations given in cycle notation.\"\"\"\n",
    "    # Parse the cycles\n",
    "    a_mapping = parse_cycle(a)\n",
    "    b_mapping = parse_cycle(b)\n",
    "\n",
    "    # Create a new mapping for the composition\n",
    "    composition = {}\n",
    "    for i in range(1, 7):  # Assuming we are working with S_6\n",
    "        current = i\n",
    "        if current in a_mapping:\n",
    "            current = a_mapping[current]\n",
    "\n",
    "        if current in b_mapping:\n",
    "            composition[i] = b_mapping[current]\n",
    "\n",
    "    return composition\n",
    "\n",
    "def cycle_notation_from_mapping(mapping):\n",
    "    \"\"\"Convert a mapping to cycle notation.\"\"\"\n",
    "    cycles = []\n",
    "    visited = set()\n",
    "\n",
    "    for i in range(1, 7):  # Assuming we are working with S_6\n",
    "        if i not in visited:\n",
    "            cycle = []\n",
    "            current = i\n",
    "            while current not in visited:\n",
    "                cycle.append(current)\n",
    "                visited.add(current)\n",
    "                if current in mapping:\n",
    "                    current = mapping[current]\n",
    "\n",
    "            if len(cycle) > 1:\n",
    "                cycles.append(tuple(cycle))\n",
    "\n",
    "    return ' '.join(f\"({''.join(map(str, cycle))})\" for cycle in cycles)"
   ]
  },
  {
   "cell_type": "code",
   "execution_count": 17,
   "id": "cb967579-ced3-4491-911e-0be0873ae7e6",
   "metadata": {},
   "outputs": [
    {
     "data": {
      "text/plain": [
       "'(56)'"
      ]
     },
     "execution_count": 17,
     "metadata": {},
     "output_type": "execute_result"
    }
   ],
   "source": [
    "cycle_notation_from_mapping(compose_permutations('(12345)', '(16)'))"
   ]
  },
  {
   "cell_type": "code",
   "execution_count": 10,
   "id": "ac98a6bb-360d-4edf-a476-7d857a6130e6",
   "metadata": {},
   "outputs": [
    {
     "data": {
      "text/plain": [
       "{1: 6, 6: 1}"
      ]
     },
     "execution_count": 10,
     "metadata": {},
     "output_type": "execute_result"
    }
   ],
   "source": [
    "parse_cycle('(16)')"
   ]
  },
  {
   "cell_type": "code",
   "execution_count": 33,
   "id": "1f9c64b4-d6dc-403c-9562-f179a2741827",
   "metadata": {},
   "outputs": [
    {
     "data": {
      "text/plain": [
       "['(123)', '(456)']"
      ]
     },
     "execution_count": 33,
     "metadata": {},
     "output_type": "execute_result"
    }
   ],
   "source": [
    "import re\n",
    "\n",
    "re.findall(\"\\(\\d*\\)\", \"(123)(456)\")"
   ]
  },
  {
   "cell_type": "code",
   "execution_count": 69,
   "id": "cb5ac4ec-1beb-4532-b44e-31307defdf8b",
   "metadata": {},
   "outputs": [],
   "source": [
    "def parse_cycle(cycle):\n",
    "    \"\"\"Parse a cycle notation string and return a dictionary mapping.\"\"\"\n",
    "    if not cycle:\n",
    "        return {}\n",
    "\n",
    "    cycle = cycle.strip()\n",
    "    if cycle[0] != '(' or cycle[-1] != ')':\n",
    "        raise ValueError(\"Invalid cycle notation\")\n",
    "\n",
    "    subcycles = re.findall(\"\\(\\d*\\)\", cycle)\n",
    "\n",
    "    mapping = {}\n",
    "    for subcycle in subcycles:\n",
    "\n",
    "        elements = subcycle[1:-1]\n",
    "        \n",
    "        for i in range(len(elements)):\n",
    "            start = int(elements[i])\n",
    "            end = int(elements[(i + 1) % len(elements)])\n",
    "            mapping[start] = end\n",
    "\n",
    "    return mapping\n",
    "\n",
    "def cycle_notation_from_mapping(mapping):\n",
    "    \"\"\"Convert a mapping to cycle notation.\"\"\"\n",
    "    cycles = []\n",
    "    visited = set()\n",
    "\n",
    "    for i in range(1, 7):  # Assuming we are working with S_6\n",
    "        if i not in visited:\n",
    "            cycle = []\n",
    "            current = i\n",
    "            while current not in visited:\n",
    "                cycle.append(current)\n",
    "                visited.add(current)\n",
    "                if current in mapping:\n",
    "                    current = mapping[current]\n",
    "\n",
    "            if len(cycle) > 1:\n",
    "                cycles.append(tuple(cycle))\n",
    "\n",
    "    out = ''.join(f\"({''.join(map(str, cycle))})\" for cycle in cycles)\n",
    "    if out == '': out = '()'\n",
    "    return out\n",
    "\n",
    "class Permutation:\n",
    "    def __init__(self, cycle=None):\n",
    "        if cycle is None:\n",
    "            cycle = ''\n",
    "        if type(cycle) is str:\n",
    "            self.cycle = cycle\n",
    "            self.mapping = parse_cycle(cycle)\n",
    "        else:\n",
    "            raise TypeError(\"Permutation must be string in cycle notation\")\n",
    "\n",
    "    def __mul__(self, other):\n",
    "        if type(other) is not Permutation:\n",
    "            if type(other) == str:\n",
    "                return self * Permutation(other)\n",
    "            return NotImplemented\n",
    "        composition = {}\n",
    "        items = [elem for sublist in list(self.mapping.items()) + list(other.mapping.items()) for elem in sublist]\n",
    "        n = max(items)\n",
    "        for i in range(1, n+1):\n",
    "            current = i\n",
    "            if current in self.mapping:\n",
    "                current = self.mapping[current]\n",
    "    \n",
    "            if current in other.mapping:\n",
    "                composition[i] = other.mapping[current]\n",
    "        return Permutation(cycle_notation_from_mapping(composition))\n",
    "\n",
    "    def __pow__(self, exp):\n",
    "        if exp >= 0:\n",
    "            out = Permutation()\n",
    "            for i in range(exp):\n",
    "                out *= self\n",
    "            return out\n",
    "        elif exp == -1:\n",
    "            return Permutation({y: x for x, y in self.mapping.items()})\n",
    "        elif exp < -1:\n",
    "            return (self ** -1) ** -exp\n",
    "\n",
    "    def __repr__(self):\n",
    "        return self.cycle\n",
    "\n",
    "    def __hash__(self):\n",
    "        return hash(self.cycle)\n",
    "\n",
    "    def __eq__(self, other):\n",
    "        return self.__hash__() == other.__hash__()"
   ]
  },
  {
   "cell_type": "code",
   "execution_count": 70,
   "id": "f06aef90-b0b2-4168-8ef3-854fc9d9db62",
   "metadata": {},
   "outputs": [
    {
     "data": {
      "text/plain": [
       "(13)"
      ]
     },
     "execution_count": 70,
     "metadata": {},
     "output_type": "execute_result"
    }
   ],
   "source": [
    "p = Permutation('(123456)')\n",
    "q = Permutation('(23)')\n",
    "p * q"
   ]
  },
  {
   "cell_type": "code",
   "execution_count": 71,
   "id": "51959d65-0ca2-4699-b939-da809ef5039b",
   "metadata": {},
   "outputs": [
    {
     "data": {
      "text/plain": [
       "(-5919448133836452026, -5919448133836452026)"
      ]
     },
     "execution_count": 71,
     "metadata": {},
     "output_type": "execute_result"
    }
   ],
   "source": [
    "p.__hash__()\n",
    "\n",
    "p = Permutation('(123456)')\n",
    "q = Permutation('(123456)')\n",
    "\n",
    "p.__hash__(), q.__hash__()"
   ]
  },
  {
   "cell_type": "code",
   "execution_count": 72,
   "id": "2ea07a39-a4e8-4c5c-80ec-2c03239a1f08",
   "metadata": {},
   "outputs": [],
   "source": [
    "s_6 = set()\n",
    "p = Permutation('(123456)')\n",
    "q = Permutation('(12)')\n",
    "x = p\n",
    "for i in range(100):\n",
    "    if x not in s_6:\n",
    "        s_6.add(x)\n",
    "        x = x * p\n",
    "    else:\n",
    "        x = x * q\n",
    "        "
   ]
  },
  {
   "cell_type": "code",
   "execution_count": 73,
   "id": "76ba39ea-48fc-4326-be3d-8d9e9cb812dd",
   "metadata": {},
   "outputs": [
    {
     "data": {
      "text/plain": [
       "{(),\n",
       " (12),\n",
       " (123456),\n",
       " (13456),\n",
       " (135)(246),\n",
       " (14)(25)(36),\n",
       " (146235),\n",
       " (1524)(36),\n",
       " (153)(264),\n",
       " (164253),\n",
       " (165432),\n",
       " (26543)}"
      ]
     },
     "execution_count": 73,
     "metadata": {},
     "output_type": "execute_result"
    }
   ],
   "source": [
    "s_6"
   ]
  },
  {
   "cell_type": "code",
   "execution_count": null,
   "id": "6cde2da8-7e70-4077-afdc-52871be4af88",
   "metadata": {},
   "outputs": [],
   "source": []
  }
 ],
 "metadata": {
  "kernelspec": {
   "display_name": "Python 3 (ipykernel)",
   "language": "python",
   "name": "python3"
  },
  "language_info": {
   "codemirror_mode": {
    "name": "ipython",
    "version": 3
   },
   "file_extension": ".py",
   "mimetype": "text/x-python",
   "name": "python",
   "nbconvert_exporter": "python",
   "pygments_lexer": "ipython3",
   "version": "3.11.13"
  }
 },
 "nbformat": 4,
 "nbformat_minor": 5
}
